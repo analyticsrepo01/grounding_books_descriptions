{
 "cells": [
  {
   "cell_type": "markdown",
   "id": "9af357fb-f5b1-4693-8c85-b08f261d7550",
   "metadata": {},
   "source": [
    "#### Author : Saurabh & Chee Weng\n",
    "#### Objective : \n",
    "1. To enable users to generate output for books description in the style that users want. \n",
    "2. Being able to try Gemini, Gemini with Grounding, and Anthropic latest models too.\n",
    "3. Although not shown but this approach can be extended to llama3.1 and other models. "
   ]
  },
  {
   "cell_type": "code",
   "execution_count": 1,
   "id": "c1317d36-96e6-4940-8cb6-596965381e54",
   "metadata": {},
   "outputs": [
    {
     "name": "stdout",
     "output_type": "stream",
     "text": [
      "\u001b[33mWARNING: Ignoring invalid distribution -ryptography (/opt/conda/lib/python3.10/site-packages)\u001b[0m\u001b[33m\n",
      "\u001b[0mName: google-cloud-aiplatform\n",
      "Version: 1.65.0\n",
      "Summary: Vertex AI API client library\n",
      "Home-page: https://github.com/googleapis/python-aiplatform\n",
      "Author: Google LLC\n",
      "Author-email: googleapis-packages@google.com\n",
      "License: Apache 2.0\n",
      "Location: /opt/conda/lib/python3.10/site-packages\n",
      "Requires: docstring-parser, google-api-core, google-auth, google-cloud-bigquery, google-cloud-resource-manager, google-cloud-storage, packaging, proto-plus, protobuf, pydantic, shapely\n",
      "Required-by: embedchain, langchain-google-vertexai, vertexai\n"
     ]
    }
   ],
   "source": [
    "!pip show google-cloud-aiplatform"
   ]
  },
  {
   "cell_type": "code",
   "execution_count": 2,
   "id": "f9a9440d-e0e2-45ba-8e4f-d4579cb81ae2",
   "metadata": {
    "tags": []
   },
   "outputs": [
    {
     "name": "stdout",
     "output_type": "stream",
     "text": [
      "Updated property [core/project].\n",
      "Creating gs://my-project-0004-346516-pytorch112kagglewbi-us-central1/...\n",
      "\u001b[1;31mERROR:\u001b[0m (gcloud.storage.buckets.create) HTTPError 409: Your previous request to create the named bucket succeeded and you already own it.\n"
     ]
    }
   ],
   "source": [
    "import socket\n",
    "import re\n",
    "\n",
    "PROJECT_ID = !(gcloud config get-value core/project)\n",
    "PROJECT_ID = PROJECT_ID[0]\n",
    "\n",
    "SVC_ACC = !(gcloud config get-value core/account)\n",
    "SVC_ACC = SVC_ACC[0]\n",
    "\n",
    "PROJECT_NUMBER=str(re.search(r'\\d+', SVC_ACC).group())\n",
    "\n",
    "LOCATION=\"us-central1\"\n",
    "\n",
    "UNIQUE_PREFIX = socket.gethostname()\n",
    "UNIQUE_PREFIX = re.sub('[^A-Za-z0-9]+', '', UNIQUE_PREFIX)\n",
    "\n",
    "BUCKET_NAME = f\"{PROJECT_ID}-{UNIQUE_PREFIX}-{LOCATION}\"\n",
    "\n",
    "BUCKET_URI = f\"gs://{BUCKET_NAME}\"  # @param {type:\"string\"}\n",
    "\n",
    "! gcloud config set project $PROJECT_ID\n",
    "! gcloud storage buckets create {BUCKET_URI} --project={PROJECT_ID} --location={LOCATION}\n",
    "! mkdir output\n",
    "\n",
    "import vertexai\n",
    "\n",
    "vertexai.init(project=PROJECT_ID, location=LOCATION, staging_bucket=BUCKET_URI)"
   ]
  },
  {
   "cell_type": "markdown",
   "id": "43921443-cc2d-48c0-88f4-8d9c49d0135b",
   "metadata": {},
   "source": [
    "### Generation just using Gemini (without grounding) "
   ]
  },
  {
   "cell_type": "code",
   "execution_count": 3,
   "id": "a02d2fd1-5cf4-4f71-8f7e-9df59c421de6",
   "metadata": {
    "tags": []
   },
   "outputs": [
    {
     "name": "stdout",
     "output_type": "stream",
     "text": [
      "**Face off against Gotham's fiercest predator!** Killer Croc is on a rampage, and only Batman and the unlikely hero, Kite Man, stand in his way. Can they wrangle this reptilian rogue before he crushes the competition?\n"
     ]
    }
   ],
   "source": [
    "import vertexai\n",
    "from vertexai.preview.generative_models import GenerationConfig, GenerativeModel\n",
    "\n",
    "vertexai.init(project=PROJECT_ID, location=\"us-central1\")\n",
    "\n",
    "model = GenerativeModel(\"gemini-1.5-pro-001\")\n",
    "\n",
    "def generate_call_to_action(title, author, description):\n",
    "    prompt = f\"\"\"\n",
    "    Given the following book information:\n",
    "    Title: {title}\n",
    "    Author: {author}\n",
    "    Description: {description}\n",
    "\n",
    "    Generate an engaging call-to-action text to promote this book. The text should be concise, exciting, and encourage readers to check out the book.\n",
    "    \"\"\"\n",
    "\n",
    "    response = model.generate_content(\n",
    "        prompt,\n",
    "        generation_config=GenerationConfig(\n",
    "            temperature=0.7,\n",
    "            max_output_tokens=50,\n",
    "        ),\n",
    "    )\n",
    "\n",
    "    return response.text\n",
    "\n",
    "# Example usage\n",
    "title = \"Killer Croc hunter / written by Scott Sonneborn ; illustrated by Mike DeCarlo, Erik Doescher, and Lee Loughridge ; Batman created by Bob Kane.\"\n",
    "author = \"Scott Sonneborn\"\n",
    "description = \"As a pro wrestler, Killer Croc bullied his opponents inside the ring. As a cutthroat criminal, this ferocious freak forces his competition out of town. Next on his hoodlum hit list is Kite Man, but the second-rate super-villain isn't leaving Gotham without a fight. He's partnering with Batman, the world's greatest detective, to wrangle up the reptilian rogue and take him down for the count\"\n",
    "\n",
    "call_to_action = generate_call_to_action(title, author, description)\n",
    "print(call_to_action)"
   ]
  },
  {
   "cell_type": "markdown",
   "id": "5e52c09e-e7bf-4db9-8015-7fa45288a81e",
   "metadata": {},
   "source": [
    "### Generation just using Gemini with Grounding"
   ]
  },
  {
   "cell_type": "code",
   "execution_count": 4,
   "id": "c50ead02-6b0e-47de-ad79-5201b6edad41",
   "metadata": {
    "tags": []
   },
   "outputs": [
    {
     "name": "stdout",
     "output_type": "stream",
     "text": [
      "Enter the gritty world of Gotham City in \"Killer Croc Hunter\"! Witness the epic showdown between Batman, the World's Greatest Detective, and the brutal Killer Croc. Can Batman and his unlikely ally, Kite Man, stop Croc's reign of terror? Find out in this action-packed adventure! \n",
      "\n"
     ]
    }
   ],
   "source": [
    "import vertexai\n",
    "\n",
    "from vertexai.generative_models import (\n",
    "    GenerationConfig,\n",
    "    GenerativeModel,\n",
    "    Tool,\n",
    "    grounding,\n",
    ")\n",
    "\n",
    "# TODO (developer): update project_id\n",
    "vertexai.init(project=PROJECT_ID, location=\"us-central1\")\n",
    "\n",
    "model = GenerativeModel(\"gemini-1.5-pro-001\")\n",
    "\n",
    "# Use Google Search for grounding\n",
    "tool = Tool.from_google_search_retrieval(grounding.GoogleSearchRetrieval())\n",
    "\n",
    "# prompt = \"When is the next total solar eclipse in US?\"\n",
    "\n",
    "prompt = f\"\"\"\n",
    "    Given the following book information:\n",
    "    Title: {title}\n",
    "    Author: {author}\n",
    "    Description: {description}\n",
    "\n",
    "    Generate an engaging call-to-action text to promote this book. The text should be concise, exciting, and encourage readers to check out the book.\n",
    "    \"\"\"\n",
    "    \n",
    "response = model.generate_content(\n",
    "    prompt,\n",
    "    tools=[tool],\n",
    "    generation_config=GenerationConfig(\n",
    "        temperature=0.0,\n",
    "    ),\n",
    ")\n",
    "\n",
    "print(response.text)"
   ]
  },
  {
   "cell_type": "markdown",
   "id": "5c813f59-08da-46b5-8d95-06f62853e516",
   "metadata": {},
   "source": [
    "### Use Clause model\n",
    "##### Do enable clause model by filling up form from Model Garden first. "
   ]
  },
  {
   "cell_type": "code",
   "execution_count": 5,
   "id": "fb0e1692-d5fa-4ae1-b0cb-bd1ed81892e7",
   "metadata": {
    "tags": []
   },
   "outputs": [
    {
     "name": "stdout",
     "output_type": "stream",
     "text": [
      "{\n",
      "  \"id\": \"msg_vrtx_016phHbmWboETLGqoewEhpB4\",\n",
      "  \"content\": [\n",
      "    {\n",
      "      \"text\": \"Dive into the gritty underbelly of Gotham with \\\"Killer Croc Hunter\\\"! Watch as Batman teams up with an unlikely ally to take down the savage Killer Croc in this thrilling adventure. Will the Dark Knight and Kite Man outsmart the scaly menace? Grab your copy now and join the hunt – this action-packed tale is sure to sink its teeth into you!\",\n",
      "      \"type\": \"text\"\n",
      "    }\n",
      "  ],\n",
      "  \"model\": \"claude-3-5-sonnet-20240620\",\n",
      "  \"role\": \"assistant\",\n",
      "  \"stop_reason\": \"end_turn\",\n",
      "  \"stop_sequence\": null,\n",
      "  \"type\": \"message\",\n",
      "  \"usage\": {\n",
      "    \"input_tokens\": 210,\n",
      "    \"output_tokens\": 89\n",
      "  }\n",
      "}\n"
     ]
    }
   ],
   "source": [
    "from anthropic import AnthropicVertex\n",
    "\n",
    "LOCATION=\"europe-west1\" # or \"us-east5\"\n",
    "\n",
    "client = AnthropicVertex(region=LOCATION, project_id=PROJECT_ID)\n",
    "\n",
    "message = client.messages.create(\n",
    "  max_tokens=1024,\n",
    "  messages=[\n",
    "    {\n",
    "      \"role\": \"user\",\n",
    "      \"content\": prompt,\n",
    "    }\n",
    "  ],\n",
    "  model=\"claude-3-5-sonnet@20240620\",\n",
    ")\n",
    "print(message.model_dump_json(indent=2))"
   ]
  },
  {
   "cell_type": "markdown",
   "id": "493ecce3-620d-4387-819d-9eba7abec31f",
   "metadata": {},
   "source": [
    "### Scaling to read all the inputs from a CSV files and write back all the outputs to csv file\n"
   ]
  },
  {
   "cell_type": "code",
   "execution_count": 6,
   "id": "7d508145-8822-4a7b-8393-d6eec06b5482",
   "metadata": {
    "tags": []
   },
   "outputs": [
    {
     "name": "stdout",
     "output_type": "stream",
     "text": [
      "                                               Title           Author  \\\n",
      "0  Killer Croc hunter / written by Scott Sonnebor...  Scott Sonneborn   \n",
      "\n",
      "                                         Description  \\\n",
      "0  As a pro wrestler, Killer Croc bullied his opp...   \n",
      "\n",
      "                         AI-generated-Call-to-Action  \n",
      "0  Get ready for an epic showdown! Join Batman an...  \n"
     ]
    }
   ],
   "source": [
    "import pandas as pd\n",
    "\n",
    "# Read the CSV file into a DataFrame\n",
    "df = pd.read_csv('input.csv') \n",
    "\n",
    "# Display the first 5 rows\n",
    "print(df.head())"
   ]
  },
  {
   "cell_type": "code",
   "execution_count": 8,
   "id": "35b94733-b894-45d3-846b-7ac07bb9ad1b",
   "metadata": {},
   "outputs": [
    {
     "name": "stdout",
     "output_type": "stream",
     "text": [
      "Call to action for 'Killer Croc hunter / written by Scott Sonneborn ; illustrated by Mike DeCarlo, Erik Doescher, and Lee Loughridge ; Batman created by Bob Kane.': **Face your fears!** Killer Croc is on the rampage, and only Batman and Kite Man stand in his way. Will this unlikely duo be enough to wrangle the reptilian rogue? **Dive into the action-packed world of Killer Cro\n"
     ]
    }
   ],
   "source": [
    "import csv\n",
    "import vertexai\n",
    "from vertexai.preview.generative_models import GenerationConfig, GenerativeModel\n",
    "\n",
    "vertexai.init(project=PROJECT_ID, location=\"us-central1\")\n",
    "model = GenerativeModel(\"gemini-1.5-pro-001\")\n",
    "\n",
    "\n",
    "def generate_call_to_action(title, author, description):\n",
    "    prompt = f\"\"\"\n",
    "    Given the following book information:\n",
    "    Title: {title}\n",
    "    Author: {author}\n",
    "    Description: {description}\n",
    "\n",
    "    Generate an engaging call-to-action text to promote this book. The text should be concise, exciting, and encourage readers to check out the book.\n",
    "    \"\"\"\n",
    "\n",
    "    response = model.generate_content(\n",
    "        prompt,\n",
    "        generation_config=GenerationConfig(\n",
    "            temperature=0.7,\n",
    "            max_output_tokens=50,\n",
    "        ),\n",
    "    )\n",
    "\n",
    "    return response.text\n",
    "\n",
    "# Read CSV and process each row\n",
    "with open(\"input.csv\", \"r\") as file:\n",
    "    reader = csv.reader(file)\n",
    "    next(reader)  # Skip header row (if present)\n",
    "\n",
    "    for row in reader:\n",
    "        title, author, description, old_call_to_action = row  # Assuming columns are in this order\n",
    "        call_to_action = generate_call_to_action(title, author, description)\n",
    "        print(f\"Call to action for '{title}': {call_to_action}\")"
   ]
  },
  {
   "cell_type": "markdown",
   "id": "5c907e96-3f68-4654-9d92-8141005b3ca3",
   "metadata": {},
   "source": [
    "#### Write the outputs back to csv file"
   ]
  },
  {
   "cell_type": "code",
   "execution_count": 9,
   "id": "f4969cea-9242-4a30-991c-0a3f82bb668f",
   "metadata": {
    "tags": []
   },
   "outputs": [],
   "source": [
    "# Read CSV and process each row\n",
    "with open(\"input.csv\", \"r\") as file:\n",
    "    reader = csv.reader(file)\n",
    "    header = next(reader)  # Store the header row\n",
    "    rows = list(reader)  # Read all remaining rows into a list\n",
    "\n",
    "# Generate call-to-actions and update rows\n",
    "for row in rows:\n",
    "    title, author, description, old_call_to_action = row\n",
    "    call_to_action = generate_call_to_action(title, author, description)\n",
    "    row.append(call_to_action)  # Add the call-to-action to the row\n",
    "\n",
    "# Write the updated data back to the CSV\n",
    "with open(\"output.csv\", \"w\", newline=\"\") as file:  # Use 'output.csv' or overwrite 'input.csv'\n",
    "    writer = csv.writer(file)\n",
    "    writer.writerow(header + [\"Call to Action\"])  # Add the new column header\n",
    "    writer.writerows(rows) "
   ]
  },
  {
   "cell_type": "code",
   "execution_count": null,
   "id": "43acf05b-bb5b-408c-9248-5c6183002146",
   "metadata": {},
   "outputs": [],
   "source": []
  }
 ],
 "metadata": {
  "environment": {
   "kernel": "conda-root-py",
   "name": "workbench-notebooks.m113",
   "type": "gcloud",
   "uri": "gcr.io/deeplearning-platform-release/workbench-notebooks:m113"
  },
  "kernelspec": {
   "display_name": "Python 3 (ipykernel) (Local)",
   "language": "python",
   "name": "conda-root-py"
  },
  "language_info": {
   "codemirror_mode": {
    "name": "ipython",
    "version": 3
   },
   "file_extension": ".py",
   "mimetype": "text/x-python",
   "name": "python",
   "nbconvert_exporter": "python",
   "pygments_lexer": "ipython3",
   "version": "3.10.13"
  }
 },
 "nbformat": 4,
 "nbformat_minor": 5
}
