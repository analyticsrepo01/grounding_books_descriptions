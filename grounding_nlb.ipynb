{
 "cells": [
  {
   "cell_type": "markdown",
   "id": "9af357fb-f5b1-4693-8c85-b08f261d7550",
   "metadata": {},
   "source": [
    "#### Author : Saurabh & Chee Weng\n",
    "#### Objective : \n",
    "1. To enable users to generate output for books description in the style that users want. \n",
    "2. Being able to try Gemini, Gemini with Grounding, and Anthropic latest models too.\n",
    "3. Although not shown but this approach can be extended to llama3.1 and other models. "
   ]
  },
  {
   "cell_type": "code",
   "execution_count": 5,
   "id": "c1317d36-96e6-4940-8cb6-596965381e54",
   "metadata": {},
   "outputs": [
    {
     "name": "stdout",
     "output_type": "stream",
     "text": [
      "\u001b[33mWARNING: Ignoring invalid distribution -ryptography (/opt/conda/lib/python3.10/site-packages)\u001b[0m\u001b[33m\n",
      "\u001b[0mRequirement already satisfied: google-cloud-aiplatform in /opt/conda/lib/python3.10/site-packages (1.65.0)\n",
      "Requirement already satisfied: google-api-core!=2.0.*,!=2.1.*,!=2.2.*,!=2.3.*,!=2.4.*,!=2.5.*,!=2.6.*,!=2.7.*,<3.0.0dev,>=1.34.1 in /opt/conda/lib/python3.10/site-packages (from google-api-core[grpc]!=2.0.*,!=2.1.*,!=2.2.*,!=2.3.*,!=2.4.*,!=2.5.*,!=2.6.*,!=2.7.*,<3.0.0dev,>=1.34.1->google-cloud-aiplatform) (2.19.1)\n",
      "Requirement already satisfied: google-auth<3.0.0dev,>=2.14.1 in /opt/conda/lib/python3.10/site-packages (from google-cloud-aiplatform) (2.34.0)\n",
      "Requirement already satisfied: proto-plus<2.0.0dev,>=1.22.3 in /opt/conda/lib/python3.10/site-packages (from google-cloud-aiplatform) (1.23.0)\n",
      "Requirement already satisfied: protobuf!=4.21.0,!=4.21.1,!=4.21.2,!=4.21.3,!=4.21.4,!=4.21.5,<6.0.0dev,>=3.20.2 in /opt/conda/lib/python3.10/site-packages (from google-cloud-aiplatform) (4.25.4)\n",
      "Requirement already satisfied: packaging>=14.3 in /opt/conda/lib/python3.10/site-packages (from google-cloud-aiplatform) (23.2)\n",
      "Requirement already satisfied: google-cloud-storage<3.0.0dev,>=1.32.0 in /opt/conda/lib/python3.10/site-packages (from google-cloud-aiplatform) (2.17.0)\n",
      "Requirement already satisfied: google-cloud-bigquery!=3.20.0,<4.0.0dev,>=1.15.0 in /opt/conda/lib/python3.10/site-packages (from google-cloud-aiplatform) (3.19.0)\n",
      "Requirement already satisfied: google-cloud-resource-manager<3.0.0dev,>=1.3.3 in /opt/conda/lib/python3.10/site-packages (from google-cloud-aiplatform) (1.12.3)\n",
      "Requirement already satisfied: shapely<3.0.0dev in /opt/conda/lib/python3.10/site-packages (from google-cloud-aiplatform) (2.0.3)\n",
      "Requirement already satisfied: pydantic<3 in /opt/conda/lib/python3.10/site-packages (from google-cloud-aiplatform) (2.7.4)\n",
      "Requirement already satisfied: docstring-parser<1 in /opt/conda/lib/python3.10/site-packages (from google-cloud-aiplatform) (0.16)\n",
      "Requirement already satisfied: googleapis-common-protos<2.0.dev0,>=1.56.2 in /opt/conda/lib/python3.10/site-packages (from google-api-core!=2.0.*,!=2.1.*,!=2.2.*,!=2.3.*,!=2.4.*,!=2.5.*,!=2.6.*,!=2.7.*,<3.0.0dev,>=1.34.1->google-api-core[grpc]!=2.0.*,!=2.1.*,!=2.2.*,!=2.3.*,!=2.4.*,!=2.5.*,!=2.6.*,!=2.7.*,<3.0.0dev,>=1.34.1->google-cloud-aiplatform) (1.63.0)\n",
      "Requirement already satisfied: requests<3.0.0.dev0,>=2.18.0 in /opt/conda/lib/python3.10/site-packages (from google-api-core!=2.0.*,!=2.1.*,!=2.2.*,!=2.3.*,!=2.4.*,!=2.5.*,!=2.6.*,!=2.7.*,<3.0.0dev,>=1.34.1->google-api-core[grpc]!=2.0.*,!=2.1.*,!=2.2.*,!=2.3.*,!=2.4.*,!=2.5.*,!=2.6.*,!=2.7.*,<3.0.0dev,>=1.34.1->google-cloud-aiplatform) (2.31.0)\n",
      "Requirement already satisfied: grpcio<2.0dev,>=1.33.2 in /opt/conda/lib/python3.10/site-packages (from google-api-core[grpc]!=2.0.*,!=2.1.*,!=2.2.*,!=2.3.*,!=2.4.*,!=2.5.*,!=2.6.*,!=2.7.*,<3.0.0dev,>=1.34.1->google-cloud-aiplatform) (1.66.1)\n",
      "Requirement already satisfied: grpcio-status<2.0.dev0,>=1.33.2 in /opt/conda/lib/python3.10/site-packages (from google-api-core[grpc]!=2.0.*,!=2.1.*,!=2.2.*,!=2.3.*,!=2.4.*,!=2.5.*,!=2.6.*,!=2.7.*,<3.0.0dev,>=1.34.1->google-cloud-aiplatform) (1.48.2)\n",
      "Requirement already satisfied: cachetools<6.0,>=2.0.0 in /opt/conda/lib/python3.10/site-packages (from google-auth<3.0.0dev,>=2.14.1->google-cloud-aiplatform) (5.3.3)\n",
      "Requirement already satisfied: pyasn1-modules>=0.2.1 in /opt/conda/lib/python3.10/site-packages (from google-auth<3.0.0dev,>=2.14.1->google-cloud-aiplatform) (0.3.0)\n",
      "Requirement already satisfied: rsa<5,>=3.1.4 in /opt/conda/lib/python3.10/site-packages (from google-auth<3.0.0dev,>=2.14.1->google-cloud-aiplatform) (4.9)\n",
      "Requirement already satisfied: google-cloud-core<3.0.0dev,>=1.6.0 in /opt/conda/lib/python3.10/site-packages (from google-cloud-bigquery!=3.20.0,<4.0.0dev,>=1.15.0->google-cloud-aiplatform) (2.4.1)\n",
      "Requirement already satisfied: google-resumable-media<3.0dev,>=0.6.0 in /opt/conda/lib/python3.10/site-packages (from google-cloud-bigquery!=3.20.0,<4.0.0dev,>=1.15.0->google-cloud-aiplatform) (2.7.0)\n",
      "Requirement already satisfied: python-dateutil<3.0dev,>=2.7.2 in /opt/conda/lib/python3.10/site-packages (from google-cloud-bigquery!=3.20.0,<4.0.0dev,>=1.15.0->google-cloud-aiplatform) (2.9.0.post0)\n",
      "Requirement already satisfied: grpc-google-iam-v1<1.0.0dev,>=0.12.4 in /opt/conda/lib/python3.10/site-packages (from google-cloud-resource-manager<3.0.0dev,>=1.3.3->google-cloud-aiplatform) (0.13.0)\n",
      "Requirement already satisfied: google-crc32c<2.0dev,>=1.0 in /opt/conda/lib/python3.10/site-packages (from google-cloud-storage<3.0.0dev,>=1.32.0->google-cloud-aiplatform) (1.5.0)\n",
      "Requirement already satisfied: annotated-types>=0.4.0 in /opt/conda/lib/python3.10/site-packages (from pydantic<3->google-cloud-aiplatform) (0.6.0)\n",
      "Requirement already satisfied: pydantic-core==2.18.4 in /opt/conda/lib/python3.10/site-packages (from pydantic<3->google-cloud-aiplatform) (2.18.4)\n",
      "Requirement already satisfied: typing-extensions>=4.6.1 in /opt/conda/lib/python3.10/site-packages (from pydantic<3->google-cloud-aiplatform) (4.12.2)\n",
      "Requirement already satisfied: numpy<2,>=1.14 in /opt/conda/lib/python3.10/site-packages (from shapely<3.0.0dev->google-cloud-aiplatform) (1.26.4)\n",
      "Requirement already satisfied: pyasn1<0.6.0,>=0.4.6 in /opt/conda/lib/python3.10/site-packages (from pyasn1-modules>=0.2.1->google-auth<3.0.0dev,>=2.14.1->google-cloud-aiplatform) (0.5.1)\n",
      "Requirement already satisfied: six>=1.5 in /opt/conda/lib/python3.10/site-packages (from python-dateutil<3.0dev,>=2.7.2->google-cloud-bigquery!=3.20.0,<4.0.0dev,>=1.15.0->google-cloud-aiplatform) (1.16.0)\n",
      "Requirement already satisfied: charset-normalizer<4,>=2 in /opt/conda/lib/python3.10/site-packages (from requests<3.0.0.dev0,>=2.18.0->google-api-core!=2.0.*,!=2.1.*,!=2.2.*,!=2.3.*,!=2.4.*,!=2.5.*,!=2.6.*,!=2.7.*,<3.0.0dev,>=1.34.1->google-api-core[grpc]!=2.0.*,!=2.1.*,!=2.2.*,!=2.3.*,!=2.4.*,!=2.5.*,!=2.6.*,!=2.7.*,<3.0.0dev,>=1.34.1->google-cloud-aiplatform) (3.3.2)\n",
      "Requirement already satisfied: idna<4,>=2.5 in /opt/conda/lib/python3.10/site-packages (from requests<3.0.0.dev0,>=2.18.0->google-api-core!=2.0.*,!=2.1.*,!=2.2.*,!=2.3.*,!=2.4.*,!=2.5.*,!=2.6.*,!=2.7.*,<3.0.0dev,>=1.34.1->google-api-core[grpc]!=2.0.*,!=2.1.*,!=2.2.*,!=2.3.*,!=2.4.*,!=2.5.*,!=2.6.*,!=2.7.*,<3.0.0dev,>=1.34.1->google-cloud-aiplatform) (3.8)\n",
      "Requirement already satisfied: urllib3<3,>=1.21.1 in /opt/conda/lib/python3.10/site-packages (from requests<3.0.0.dev0,>=2.18.0->google-api-core!=2.0.*,!=2.1.*,!=2.2.*,!=2.3.*,!=2.4.*,!=2.5.*,!=2.6.*,!=2.7.*,<3.0.0dev,>=1.34.1->google-api-core[grpc]!=2.0.*,!=2.1.*,!=2.2.*,!=2.3.*,!=2.4.*,!=2.5.*,!=2.6.*,!=2.7.*,<3.0.0dev,>=1.34.1->google-cloud-aiplatform) (2.2.1)\n",
      "Requirement already satisfied: certifi>=2017.4.17 in /opt/conda/lib/python3.10/site-packages (from requests<3.0.0.dev0,>=2.18.0->google-api-core!=2.0.*,!=2.1.*,!=2.2.*,!=2.3.*,!=2.4.*,!=2.5.*,!=2.6.*,!=2.7.*,<3.0.0dev,>=1.34.1->google-api-core[grpc]!=2.0.*,!=2.1.*,!=2.2.*,!=2.3.*,!=2.4.*,!=2.5.*,!=2.6.*,!=2.7.*,<3.0.0dev,>=1.34.1->google-cloud-aiplatform) (2024.6.2)\n",
      "\u001b[33mWARNING: Error parsing dependencies of platformdirs: [Errno 2] No such file or directory: '/opt/conda/lib/python3.10/site-packages/platformdirs-3.11.0.dist-info/METADATA'\u001b[0m\u001b[33m\n",
      "\u001b[0m\u001b[33mWARNING: Error parsing dependencies of prometheus-client: [Errno 2] No such file or directory: '/opt/conda/lib/python3.10/site-packages/prometheus_client-0.18.0.dist-info/METADATA'\u001b[0m\u001b[33m\n",
      "\u001b[0m\u001b[33mWARNING: Error parsing dependencies of pytz: [Errno 2] No such file or directory: '/opt/conda/lib/python3.10/site-packages/pytz-2023.3.post1.dist-info/METADATA'\u001b[0m\u001b[33m\n",
      "\u001b[0m\u001b[33mWARNING: Ignoring invalid distribution -ryptography (/opt/conda/lib/python3.10/site-packages)\u001b[0m\u001b[33m\n",
      "\u001b[0m\n",
      "\u001b[1m[\u001b[0m\u001b[34;49mnotice\u001b[0m\u001b[1;39;49m]\u001b[0m\u001b[39;49m A new release of pip is available: \u001b[0m\u001b[31;49m24.1.2\u001b[0m\u001b[39;49m -> \u001b[0m\u001b[32;49m24.2\u001b[0m\n",
      "\u001b[1m[\u001b[0m\u001b[34;49mnotice\u001b[0m\u001b[1;39;49m]\u001b[0m\u001b[39;49m To update, run: \u001b[0m\u001b[32;49mpip install --upgrade pip\u001b[0m\n"
     ]
    }
   ],
   "source": [
    "!pip install google-cloud-aiplatform"
   ]
  },
  {
   "cell_type": "code",
   "execution_count": 6,
   "id": "f9a9440d-e0e2-45ba-8e4f-d4579cb81ae2",
   "metadata": {
    "tags": []
   },
   "outputs": [
    {
     "name": "stdout",
     "output_type": "stream",
     "text": [
      "Updated property [core/project].\n",
      "Creating gs://my-project-0004-346516-pytorch112kagglewbi-asia-southeast1/...\n",
      "\u001b[1;31mERROR:\u001b[0m (gcloud.storage.buckets.create) HTTPError 409: Your previous request to create the named bucket succeeded and you already own it.\n",
      "mkdir: cannot create directory ‘output’: File exists\n"
     ]
    }
   ],
   "source": [
    "import socket\n",
    "import re\n",
    "\n",
    "PROJECT_ID = !(gcloud config get-value core/project)\n",
    "PROJECT_ID = PROJECT_ID[0]\n",
    "\n",
    "SVC_ACC = !(gcloud config get-value core/account)\n",
    "SVC_ACC = SVC_ACC[0]\n",
    "\n",
    "PROJECT_NUMBER=str(re.search(r'\\d+', SVC_ACC).group())\n",
    "\n",
    "LOCATION=\"asia-southeast1\"\n",
    "\n",
    "UNIQUE_PREFIX = socket.gethostname()\n",
    "UNIQUE_PREFIX = re.sub('[^A-Za-z0-9]+', '', UNIQUE_PREFIX)\n",
    "\n",
    "BUCKET_NAME = f\"{PROJECT_ID}-{UNIQUE_PREFIX}-{LOCATION}\"\n",
    "\n",
    "BUCKET_URI = f\"gs://{BUCKET_NAME}\"  # @param {type:\"string\"}\n",
    "\n",
    "! gcloud config set project $PROJECT_ID\n",
    "! gcloud storage buckets create {BUCKET_URI} --project={PROJECT_ID} --location={LOCATION}\n",
    "! mkdir output\n",
    "\n",
    "import vertexai\n",
    "\n",
    "vertexai.init(project=PROJECT_ID, location=LOCATION, staging_bucket=BUCKET_URI)"
   ]
  },
  {
   "cell_type": "markdown",
   "id": "43921443-cc2d-48c0-88f4-8d9c49d0135b",
   "metadata": {},
   "source": [
    "### Generation just using Gemini (without grounding) "
   ]
  },
  {
   "cell_type": "code",
   "execution_count": 7,
   "id": "a02d2fd1-5cf4-4f71-8f7e-9df59c421de6",
   "metadata": {
    "tags": []
   },
   "outputs": [
    {
     "name": "stdout",
     "output_type": "stream",
     "text": [
      "💥 **He's big, he's bad, he's Killer Croc!** 💥\n",
      "\n",
      "Can Batman and the unlikely hero Kite Man stop this reptilian rogue before Gotham becomes his swamp? Dive into a world of bone-cr\n"
     ]
    }
   ],
   "source": [
    "import vertexai\n",
    "from vertexai.preview.generative_models import GenerationConfig, GenerativeModel\n",
    "\n",
    "vertexai.init(project=PROJECT_ID, location=LOCATION)\n",
    "\n",
    "model = GenerativeModel(\"gemini-1.5-pro-001\")\n",
    "\n",
    "def generate_call_to_action(title, author, description):\n",
    "    prompt = f\"\"\"\n",
    "    Given the following book information:\n",
    "    Title: {title}\n",
    "    Author: {author}\n",
    "    Description: {description}\n",
    "\n",
    "    Generate an engaging call-to-action text to promote this book. The text should be concise, exciting, and encourage readers to check out the book.\n",
    "    \"\"\"\n",
    "\n",
    "    response = model.generate_content(\n",
    "        prompt,\n",
    "        generation_config=GenerationConfig(\n",
    "            temperature=0.7,\n",
    "            max_output_tokens=50,\n",
    "        ),\n",
    "    )\n",
    "\n",
    "    return response.text\n",
    "\n",
    "# Example usage\n",
    "title = \"Killer Croc hunter / written by Scott Sonneborn ; illustrated by Mike DeCarlo, Erik Doescher, and Lee Loughridge ; Batman created by Bob Kane.\"\n",
    "author = \"Scott Sonneborn\"\n",
    "description = \"As a pro wrestler, Killer Croc bullied his opponents inside the ring. As a cutthroat criminal, this ferocious freak forces his competition out of town. Next on his hoodlum hit list is Kite Man, but the second-rate super-villain isn't leaving Gotham without a fight. He's partnering with Batman, the world's greatest detective, to wrangle up the reptilian rogue and take him down for the count\"\n",
    "\n",
    "call_to_action = generate_call_to_action(title, author, description)\n",
    "print(call_to_action)"
   ]
  },
  {
   "cell_type": "markdown",
   "id": "5e52c09e-e7bf-4db9-8015-7fa45288a81e",
   "metadata": {},
   "source": [
    "### Generation just using Gemini with Grounding"
   ]
  },
  {
   "cell_type": "code",
   "execution_count": 8,
   "id": "c50ead02-6b0e-47de-ad79-5201b6edad41",
   "metadata": {
    "tags": []
   },
   "outputs": [
    {
     "name": "stdout",
     "output_type": "stream",
     "text": [
      "Can Batman stop Killer Croc's reign of terror? Killer Croc is targeting Gotham's villains, and only the Dark Knight can stop him! Will Batman and Kite Man team up to defeat this reptilian rogue? Find out in \"Killer Croc Hunter\"! \n",
      "\n"
     ]
    }
   ],
   "source": [
    "import vertexai\n",
    "\n",
    "from vertexai.generative_models import (\n",
    "    GenerationConfig,\n",
    "    GenerativeModel,\n",
    "    Tool,\n",
    "    grounding,\n",
    ")\n",
    "\n",
    "# TODO (developer): update project_id\n",
    "vertexai.init(project=PROJECT_ID, location=\"us-central1\")\n",
    "\n",
    "model = GenerativeModel(\"gemini-1.5-pro-001\")\n",
    "\n",
    "# Use Google Search for grounding\n",
    "tool = Tool.from_google_search_retrieval(grounding.GoogleSearchRetrieval())\n",
    "\n",
    "# prompt = \"When is the next total solar eclipse in US?\"\n",
    "\n",
    "prompt = f\"\"\"\n",
    "    Given the following book information:\n",
    "    Title: {title}\n",
    "    Author: {author}\n",
    "    Description: {description}\n",
    "\n",
    "    Generate an engaging call-to-action text to promote this book. The text should be concise, exciting, and encourage readers to check out the book.\n",
    "    \"\"\"\n",
    "    \n",
    "response = model.generate_content(\n",
    "    prompt,\n",
    "    tools=[tool],\n",
    "    generation_config=GenerationConfig(\n",
    "        temperature=0.0,\n",
    "    ),\n",
    ")\n",
    "\n",
    "print(response.text)"
   ]
  },
  {
   "cell_type": "markdown",
   "id": "5c813f59-08da-46b5-8d95-06f62853e516",
   "metadata": {},
   "source": [
    "### Use Clause model\n",
    "##### Do enable clause model by filling up form from Model Garden first. "
   ]
  },
  {
   "cell_type": "code",
   "execution_count": 9,
   "id": "fb0e1692-d5fa-4ae1-b0cb-bd1ed81892e7",
   "metadata": {
    "tags": []
   },
   "outputs": [
    {
     "name": "stdout",
     "output_type": "stream",
     "text": [
      "{\n",
      "  \"id\": \"msg_vrtx_01Dh3dwUbgVrsheYF8L7rsKU\",\n",
      "  \"content\": [\n",
      "    {\n",
      "      \"text\": \"Attention Batman fans and action lovers! Dive into the thrilling world of \\\"Killer Croc Hunter\\\" by Scott Sonneborn. Watch as the Dark Knight teams up with an unlikely ally to take down Gotham's most ferocious reptilian villain! Will Batman and Kite Man's odd partnership be enough to stop Killer Croc's reign of terror? Find out in this action-packed adventure that'll keep you on the edge of your seat. Don't miss out – grab your copy today and join the hunt!\",\n",
      "      \"type\": \"text\"\n",
      "    }\n",
      "  ],\n",
      "  \"model\": \"claude-3-5-sonnet-20240620\",\n",
      "  \"role\": \"assistant\",\n",
      "  \"stop_reason\": \"end_turn\",\n",
      "  \"stop_sequence\": null,\n",
      "  \"type\": \"message\",\n",
      "  \"usage\": {\n",
      "    \"input_tokens\": 210,\n",
      "    \"output_tokens\": 116\n",
      "  }\n",
      "}\n"
     ]
    }
   ],
   "source": [
    "from anthropic import AnthropicVertex\n",
    "\n",
    "LOCATION=\"europe-west1\" # or \"us-east5\"\n",
    "\n",
    "client = AnthropicVertex(region=LOCATION, project_id=PROJECT_ID)\n",
    "\n",
    "message = client.messages.create(\n",
    "  max_tokens=1024,\n",
    "  messages=[\n",
    "    {\n",
    "      \"role\": \"user\",\n",
    "      \"content\": prompt,\n",
    "    }\n",
    "  ],\n",
    "  model=\"claude-3-5-sonnet@20240620\",\n",
    ")\n",
    "print(message.model_dump_json(indent=2))"
   ]
  },
  {
   "cell_type": "markdown",
   "id": "493ecce3-620d-4387-819d-9eba7abec31f",
   "metadata": {},
   "source": [
    "### Scaling to read all the inputs from a CSV files and write back all the outputs to csv file\n"
   ]
  },
  {
   "cell_type": "code",
   "execution_count": 10,
   "id": "7d508145-8822-4a7b-8393-d6eec06b5482",
   "metadata": {
    "tags": []
   },
   "outputs": [
    {
     "name": "stdout",
     "output_type": "stream",
     "text": [
      "                                               Title           Author  \\\n",
      "0  Killer Croc hunter / written by Scott Sonnebor...  Scott Sonneborn   \n",
      "\n",
      "                                         Description  \\\n",
      "0  As a pro wrestler, Killer Croc bullied his opp...   \n",
      "\n",
      "                         AI-generated-Call-to-Action  \n",
      "0  Get ready for an epic showdown! Join Batman an...  \n"
     ]
    }
   ],
   "source": [
    "import pandas as pd\n",
    "\n",
    "# Read the CSV file into a DataFrame\n",
    "df = pd.read_csv('input.csv') \n",
    "\n",
    "# Display the first 5 rows\n",
    "print(df.head())"
   ]
  },
  {
   "cell_type": "code",
   "execution_count": 19,
   "id": "35b94733-b894-45d3-846b-7ac07bb9ad1b",
   "metadata": {},
   "outputs": [
    {
     "name": "stdout",
     "output_type": "stream",
     "text": [
      "Call to action for 'Killer Croc hunter / written by Scott Sonneborn ; illustrated by Mike DeCarlo, Erik Doescher, and Lee Loughridge ; Batman created by Bob Kane.': **Option 1 (Short & Punchy):**\n",
      "\n",
      "Killer Croc is on a rampage! Can Batman and Kite Man stop this reptilian rogue before it's too late? Find out in KILLER CROC HUNTER! \n",
      "\n",
      "**Option\n"
     ]
    }
   ],
   "source": [
    "import csv\n",
    "import vertexai\n",
    "from vertexai.preview.generative_models import GenerationConfig, GenerativeModel\n",
    "\n",
    "vertexai.init(project=PROJECT_ID, location=\"us-central1\")\n",
    "model = GenerativeModel(\"gemini-1.5-pro-001\")\n",
    "\n",
    "\n",
    "def generate_call_to_action(title, author, description):\n",
    "    prompt = f\"\"\"\n",
    "    Given the following book information:\n",
    "    Title: {title}\n",
    "    Author: {author}\n",
    "    Description: {description}\n",
    "\n",
    "    Generate an engaging call-to-action text to promote this book. The text should be concise, exciting, and encourage readers to check out the book.\n",
    "    \"\"\"\n",
    "\n",
    "    response = model.generate_content(\n",
    "        prompt,\n",
    "        generation_config=GenerationConfig(\n",
    "            temperature=0.7,\n",
    "            max_output_tokens=50,\n",
    "        ),\n",
    "    )\n",
    "\n",
    "    return response.text\n",
    "\n",
    "\n",
    "tool = Tool.from_google_search_retrieval(grounding.GoogleSearchRetrieval())\n",
    "\n",
    "def generate_call_to_action_withGrounding(title, author, description):\n",
    "    prompt = f\"\"\"    Given the following book information:    Title: {title}    Author: {author}    Description: {description}    Generate an engaging call-to-action text to promote this book. The text should be concise, exciting, and encourage readers to check out the book.    \"\"\"\n",
    "\n",
    "    response = model.generate_content(\n",
    "        prompt,\n",
    "        tools=[tool],  # Include the grounding tool\n",
    "        generation_config=GenerationConfig(\n",
    "            temperature=0.7,  # You can adjust this for creativity\n",
    "            max_output_tokens=50,\n",
    "        ),\n",
    "    )\n",
    "\n",
    "    return response.text\n",
    "\n",
    "\n",
    "from anthropic import AnthropicVertex\n",
    "\n",
    "def generate_response_with_anthropic(title, author, description, location=\"europe-west1\", model_name=\"claude-3-5-sonnet@20240620\", max_tokens=1024):\n",
    "    \"\"\"\n",
    "    Generates a response using the Anthropic Claude model.\n",
    "\n",
    "    Args:\n",
    "    prompt: The prompt text for the model.\n",
    "    location: The cloud region where the model is deployed.\n",
    "    model_name: The specific Anthropic model to use.\n",
    "    max_tokens: The maximum number of tokens in the generated response.\n",
    "\n",
    "    Returns:\n",
    "    The generated text response.\n",
    "    \"\"\"\n",
    "\n",
    "    prompt = f\"\"\"\n",
    "        Given the following book information:\n",
    "        Title: {title}\n",
    "        Author: {author}\n",
    "        Description: {description}\n",
    "\n",
    "        Generate an engaging call-to-action text to promote this book. \n",
    "        The text should be concise, exciting, and encourage readers to check out the book.\n",
    "    \"\"\"\n",
    "    client = AnthropicVertex(region=location, project_id=PROJECT_ID)  # Assuming PROJECT_ID is defined elsewhere\n",
    "\n",
    "    message = client.messages.create(\n",
    "      max_tokens=max_tokens,\n",
    "      messages=[\n",
    "          {\n",
    "              \"role\": \"user\",\n",
    "              \"content\": prompt,\n",
    "          }\n",
    "      ],\n",
    "      model=model_name,\n",
    "    )\n",
    "\n",
    "    return message.content\n",
    "\n",
    "\n",
    "# Read CSV and process each row\n",
    "with open(\"input.csv\", \"r\") as file:\n",
    "    reader = csv.reader(file)\n",
    "    next(reader)  # Skip header row (if present)\n",
    "\n",
    "    for row in reader:\n",
    "        title, author, description, old_call_to_action = row  # Assuming columns are in this order\n",
    "        call_to_action_withgemini = generate_call_to_action(title, author, description)\n",
    "        call_to_action_withgrounding = generate_call_to_action_withGrounding(title, author, description)\n",
    "        call_to_action_anthropic = generate_response_with_anthropic(title, author, description)\n",
    "        print(f\"Call to action for '{title}': {call_to_action_withgemini}\")"
   ]
  },
  {
   "cell_type": "code",
   "execution_count": 20,
   "id": "5a494c7e-807c-4e5e-bca1-520afad3f87b",
   "metadata": {
    "tags": []
   },
   "outputs": [],
   "source": [
    "# call_to_action = generate_response_with_anthropic(title, author, description)"
   ]
  },
  {
   "cell_type": "code",
   "execution_count": 21,
   "id": "0a28e371-e498-49cf-9649-ee89315ef05f",
   "metadata": {
    "tags": []
   },
   "outputs": [],
   "source": [
    "# print(call_to_action)"
   ]
  },
  {
   "cell_type": "markdown",
   "id": "5c907e96-3f68-4654-9d92-8141005b3ca3",
   "metadata": {
    "tags": []
   },
   "source": [
    "#### Write the outputs back to csv file"
   ]
  },
  {
   "cell_type": "code",
   "execution_count": 22,
   "id": "2f914e3d-90e4-42cc-bf06-90fcdd623fe9",
   "metadata": {
    "tags": []
   },
   "outputs": [],
   "source": [
    "import csv\n",
    "\n",
    "# Read CSV and process each row\n",
    "with open(\"input.csv\", \"r\") as file:\n",
    "    reader = csv.reader(file)\n",
    "    header = next(reader)  # Store the header row\n",
    "    rows = list(reader)  # Read all remaining rows into a list\n",
    "\n",
    "# Generate call-to-actions and update rows\n",
    "for row in rows:\n",
    "    title, author, description, old_call_to_action = row\n",
    "    call_to_action_withgemini = generate_call_to_action(title, author, description)\n",
    "    call_to_action_withgrounding = generate_call_to_action_withGrounding(title, author, description)\n",
    "    call_to_action_anthropic = generate_response_with_anthropic(title, author, description)\n",
    "    \n",
    "    row.extend([call_to_action_withgemini, call_to_action_withgrounding, call_to_action_anthropic])\n",
    "\n",
    "# Write the updated data back to the CSV\n",
    "with open(\"output.csv\", \"w\", newline=\"\") as file:\n",
    "    writer = csv.writer(file)\n",
    "    writer.writerow(header + [\"Call to Action with Gemini\", \"Call to Action with Grounding\", \"Call to Action with Anthropic\"])\n",
    "    writer.writerows(rows)\n",
    "\n",
    "# (Optional) If you want to write these to CSS directly:\n",
    "with open(\"output.css\", \"w\") as css_file:\n",
    "    for row in rows:\n",
    "        title, author, description, old_call_to_action, call_to_action_withgemini, call_to_action_withgrounding, call_to_action_anthropic = row\n",
    "        # You'll need to define how you want to structure the CSS\n",
    "        # Here's a basic example assuming you have a class for each title:\n",
    "        css_file.write(f\".{title} {{\\n\")\n",
    "        css_file.write(f\"  /* Other CSS properties */\\n\")\n",
    "        css_file.write(f\"  --call-to-action-withgemini: '{call_to_action_withgemini}';\\n\")\n",
    "        css_file.write(f\"  --call-to-action-withgrounding: '{call_to_action_withgrounding}';\\n\")\n",
    "        css_file.write(f\"  --call-to-action-withanthropic: '{call_to_action_anthropic}';\\n\")\n",
    "        css_file.write(\"}\\n\\n\")"
   ]
  },
  {
   "cell_type": "markdown",
   "id": "67153604-21bb-4ecb-bfaa-00ae1943e388",
   "metadata": {},
   "source": [
    "## Impoving using a few shot examples \n",
    "\n"
   ]
  },
  {
   "cell_type": "code",
   "execution_count": 13,
   "id": "f3626943-e425-4f1a-9ee4-d5a0f6be231b",
   "metadata": {
    "tags": []
   },
   "outputs": [],
   "source": [
    "few_shot_examples =  \"\"\"\n",
    "**Example 1**\n",
    "\n",
    "[INPUT] Title\n",
    "The Martian\n",
    "\n",
    "[INPUT] Author\n",
    "Andy Weir\n",
    "\n",
    "[INPUT] Description\n",
    "An astronaut becomes stranded on Mars after his team assumes him dead, and must rely on his ingenuity to find a way to signal to Earth that he is alive.\n",
    "\n",
    "[OUTPUT] AI-generated Call-to-Action\n",
    "Stranded on Mars, one man's fight for survival begins. Can he defy the odds and make it home? Experience the thrilling adventure of *The Martian* today! \n",
    "\n",
    "**Example 2**\n",
    "\n",
    "[INPUT] Title\n",
    "Pride and Prejudice\n",
    "\n",
    "[INPUT] Author\n",
    "Jane Austen\n",
    "\n",
    "[INPUT] Description\n",
    "Follow the spirited Elizabeth Bennet as she navigates the complexities of love and societal expectations in 19th-century England. Will she find happiness amidst the prejudices and pride of her world?\n",
    "\n",
    "[OUTPUT] AI-generated Call-to-Action\n",
    "Wit, romance, and social satire intertwine in this timeless classic. Discover the enduring charm of *Pride and Prejudice* - a must-read for every generation!\n",
    "\n",
    "**Example 3**\n",
    "\n",
    "[INPUT] Title\n",
    "The Hunger Games\n",
    "\n",
    "[INPUT] Author\n",
    "Suzanne Collins\n",
    "\n",
    "[INPUT] Author\n",
    "In a dystopian future, Katniss Everdeen volunteers to take her younger sister's place in the Hunger Games, a televised event in which teenagers must fight to the death.\n",
    "\n",
    "[OUTPUT] AI-generated Call-to-Action\n",
    "Enter the arena! Join Katniss in a fight for survival and rebellion against a tyrannical regime. *The Hunger Games* - an unforgettable story of courage and defiance.\n",
    "\n",
    "\n",
    "\"\"\""
   ]
  },
  {
   "cell_type": "code",
   "execution_count": 23,
   "id": "a7b766e2-cf2b-4026-8de7-daba1577c69a",
   "metadata": {
    "tags": []
   },
   "outputs": [],
   "source": [
    "prompt_few_shots = f\"\"\"\n",
    "    **Few-Shot Examples for Generating Book Call-to-Actions**\n",
    "\n",
    "{few_shot_examples}\n",
    "\n",
    "    **Book Information**\n",
    "\n",
    "    Title: {title}\n",
    "    Author: {author}\n",
    "    Description: {description}\n",
    "\n",
    "    **Task**\n",
    "\n",
    "    Generate an engaging call-to-action text to promote this book. The text should be concise, exciting, and encourage readers to check out the book.\n",
    "\"\"\""
   ]
  },
  {
   "cell_type": "code",
   "execution_count": 24,
   "id": "17f4255e-e071-4063-b831-b99864afc666",
   "metadata": {
    "tags": []
   },
   "outputs": [
    {
     "name": "stdout",
     "output_type": "stream",
     "text": [
      "Call to action for 'Killer Croc hunter / written by Scott Sonneborn ; illustrated by Mike DeCarlo, Erik Doescher, and Lee Loughridge ; Batman created by Bob Kane.': Can Batman stop Killer Croc from terrorizing Gotham City? When Killer Croc targets Kite Man, the unlikely duo of Batman and Kite Man must team up to stop him. Find out if they can defeat the reptilian rogue in *Killer Croc\n"
     ]
    }
   ],
   "source": [
    "# generate_call_to_action_withGrounding_fewshot\n",
    "\n",
    "def generate_call_to_action_fewshot(title, author, description):\n",
    "    prompt = f\"\"\"\n",
    "    Given the following book information:\n",
    "    Title: {title}\n",
    "    Author: {author}\n",
    "    Description: {description}\n",
    "\n",
    "    Generate an engaging call-to-action text to promote this book. The text should be concise, exciting, and encourage readers to check out the book.\n",
    "    \"\"\"\n",
    "\n",
    "    response = model.generate_content(\n",
    "        prompt_few_shots,\n",
    "        generation_config=GenerationConfig(\n",
    "            temperature=0.7,\n",
    "            max_output_tokens=50,\n",
    "        ),\n",
    "    )\n",
    "\n",
    "    return response.text\n",
    "\n",
    "\n",
    "tool = Tool.from_google_search_retrieval(grounding.GoogleSearchRetrieval())\n",
    "\n",
    "def generate_call_to_action_withGrounding_fewshot(title, author, description):\n",
    "    prompt = f\"\"\"    Given the following book information:    Title: {title}    Author: {author}    Description: {description}    Generate an engaging call-to-action text to promote this book. The text should be concise, exciting, and encourage readers to check out the book.    \"\"\"\n",
    "\n",
    "    response = model.generate_content(\n",
    "        prompt_few_shots,\n",
    "        tools=[tool],  # Include the grounding tool\n",
    "        generation_config=GenerationConfig(\n",
    "            temperature=0.7,  # You can adjust this for creativity\n",
    "            max_output_tokens=50,\n",
    "        ),\n",
    "    )\n",
    "\n",
    "    return response.text\n",
    "\n",
    "\n",
    "def generate_response_with_anthropic_fewshot(title, author, description, location=\"europe-west1\", model_name=\"claude-3-5-sonnet@20240620\", max_tokens=1024):\n",
    "    client = AnthropicVertex(region=location, project_id=PROJECT_ID)  # Assuming PROJECT_ID is defined elsewhere\n",
    "\n",
    "    message = client.messages.create(\n",
    "      max_tokens=max_tokens,\n",
    "      messages=[\n",
    "          {\n",
    "              \"role\": \"user\",\n",
    "              \"content\": prompt_few_shots,\n",
    "          }\n",
    "      ],\n",
    "      model=model_name,\n",
    "    )\n",
    "\n",
    "    return message.content\n",
    "\n",
    "\n",
    "# Read CSV and process each row\n",
    "with open(\"input.csv\", \"r\") as file:\n",
    "    reader = csv.reader(file)\n",
    "    next(reader)  # Skip header row (if present)\n",
    "\n",
    "    for row in reader:\n",
    "        title, author, description, old_call_to_action = row  # Assuming columns are in this order\n",
    "        call_to_action = generate_call_to_action_withGrounding_fewshot(title, author, description)\n",
    "        print(f\"Call to action for '{title}': {call_to_action}\")"
   ]
  },
  {
   "cell_type": "markdown",
   "id": "beea3204-b85c-4452-b52e-49ded269282d",
   "metadata": {},
   "source": [
    "#### Same thing runn the above code via csv files here \n"
   ]
  },
  {
   "cell_type": "code",
   "execution_count": 26,
   "id": "4b265ea6-fd57-4e70-9d93-1ce9de3ceca9",
   "metadata": {
    "tags": []
   },
   "outputs": [],
   "source": [
    "import csv\n",
    "\n",
    "# Read CSV and process each row\n",
    "with open(\"input.csv\", \"r\") as file:\n",
    "    reader = csv.reader(file)\n",
    "    header = next(reader)  # Store the header row\n",
    "    rows = list(reader)  # Read all remaining rows into a list\n",
    "\n",
    "# Generate call-to-actions and update rows\n",
    "for row in rows:\n",
    "    title, author, description, old_call_to_action = row\n",
    "    call_to_action_withgemini_fewshot = generate_call_to_action_fewshot(title, author, description)\n",
    "    call_to_action_withgrounding_fewshot = generate_call_to_action_withGrounding_fewshot(title, author, description)\n",
    "    call_to_action_anthropic_fewshot = generate_response_with_anthropic_fewshot(title, author, description)\n",
    "    \n",
    "    row.extend([call_to_action_withgemini, call_to_action_withgrounding, call_to_action_anthropic])\n",
    "\n",
    "# Write the updated data back to the CSV\n",
    "with open(\"output_fewshot.csv\", \"w\", newline=\"\") as file:\n",
    "    writer = csv.writer(file)\n",
    "    writer.writerow(header + [\"Call to Action with Gemini_fewshot\", \"Call to Action with Grounding_fewshot\", \"Call to Action with Anthropic_fewshot\"])\n",
    "    writer.writerows(rows)\n",
    "\n",
    "# (Optional) If you want to write these to CSS directly:\n",
    "with open(\"output_fewshot.css\", \"w\") as css_file:\n",
    "    for row in rows:\n",
    "        title, author, description, old_call_to_action, call_to_action_withgemini_fewshot, call_to_action_withgrounding_fewshot, call_to_action_anthropic_fewshot = row\n",
    "        # You'll need to define how you want to structure the CSS\n",
    "        # Here's a basic example assuming you have a class for each title:\n",
    "        css_file.write(f\".{title} {{\\n\")\n",
    "        css_file.write(f\"  /* Other CSS properties */\\n\")\n",
    "        css_file.write(f\"  --call-to-action-withgemini: '{call_to_action_withgemini_fewshot}';\\n\")\n",
    "        css_file.write(f\"  --call-to-action-withgrounding: '{call_to_action_withgrounding_fewshot}';\\n\")\n",
    "        css_file.write(f\"  --call-to-action-withanthropic: '{call_to_action_anthropic_fewshot}';\\n\")\n",
    "        css_file.write(\"}\\n\\n\")"
   ]
  },
  {
   "cell_type": "code",
   "execution_count": null,
   "id": "1c086e48-9ede-42cc-9a3f-66857e15eaeb",
   "metadata": {},
   "outputs": [],
   "source": []
  }
 ],
 "metadata": {
  "environment": {
   "kernel": "conda-root-py",
   "name": "workbench-notebooks.m113",
   "type": "gcloud",
   "uri": "gcr.io/deeplearning-platform-release/workbench-notebooks:m113"
  },
  "kernelspec": {
   "display_name": "Python 3 (ipykernel) (Local)",
   "language": "python",
   "name": "conda-root-py"
  },
  "language_info": {
   "codemirror_mode": {
    "name": "ipython",
    "version": 3
   },
   "file_extension": ".py",
   "mimetype": "text/x-python",
   "name": "python",
   "nbconvert_exporter": "python",
   "pygments_lexer": "ipython3",
   "version": "3.10.13"
  }
 },
 "nbformat": 4,
 "nbformat_minor": 5
}
